{
 "cells": [
  {
   "cell_type": "code",
   "execution_count": 1,
   "metadata": {},
   "outputs": [
    {
     "name": "stderr",
     "output_type": "stream",
     "text": [
      "Using TensorFlow backend.\n"
     ]
    }
   ],
   "source": [
    "import numpy as np\n",
    "import keras"
   ]
  },
  {
   "cell_type": "markdown",
   "metadata": {},
   "source": [
    "## Load Dataset"
   ]
  },
  {
   "cell_type": "code",
   "execution_count": 2,
   "metadata": {},
   "outputs": [
    {
     "name": "stdout",
     "output_type": "stream",
     "text": [
      "(60000, 28, 28) (60000,)\n",
      "(10000, 28, 28) (10000,)\n"
     ]
    }
   ],
   "source": [
    "from keras.datasets import mnist\n",
    "\n",
    "((X_train, y_train), (X_test, y_test)) = mnist.load_data()\n",
    " \n",
    "print(X_train.shape, y_train.shape)\n",
    "print(X_test.shape, y_test.shape)"
   ]
  },
  {
   "cell_type": "markdown",
   "metadata": {},
   "source": [
    "### Visualize"
   ]
  },
  {
   "cell_type": "code",
   "execution_count": 3,
   "metadata": {},
   "outputs": [
    {
     "name": "stdout",
     "output_type": "stream",
     "text": [
      "[5 0 4 1 9 2 1 3 1 4]\n"
     ]
    },
    {
     "data": {
      "text/plain": [
       "<matplotlib.image.AxesImage at 0x10d172198>"
      ]
     },
     "execution_count": 3,
     "metadata": {},
     "output_type": "execute_result"
    },
    {
     "data": {
      "text/plain": [
       "<Figure size 432x288 with 0 Axes>"
      ]
     },
     "metadata": {},
     "output_type": "display_data"
    },
    {
     "data": {
      "image/png": "[encoded data removed]",
      "text/plain": [
       "<Figure size 1296x576 with 10 Axes>"
      ]
     },
     "metadata": {},
     "output_type": "display_data"
    }
   ],
   "source": [
    "%matplotlib inline\n",
    "import matplotlib.pyplot as plt\n",
    "\n",
    "plt.gray()\n",
    "\n",
    "print(y_train[0:10])\n",
    "\n",
    "figures, axes = plt.subplots(nrows=2, ncols=5)\n",
    "figures.set_size_inches(18, 8)\n",
    "\n",
    "axes[0][0].matshow(X_train[0])\n",
    "axes[0][1].matshow(X_train[1])\n",
    "axes[0][2].matshow(X_train[2])\n",
    "axes[0][3].matshow(X_train[3])\n",
    "axes[0][4].matshow(X_train[4])\n",
    "axes[1][0].matshow(X_train[5])\n",
    "axes[1][1].matshow(X_train[6])\n",
    "axes[1][2].matshow(X_train[7])\n",
    "axes[1][3].matshow(X_train[8])\n",
    "axes[1][4].matshow(X_train[9])"
   ]
  },
  {
   "cell_type": "markdown",
   "metadata": {},
   "source": [
    "## Preprocessing"
   ]
  },
  {
   "cell_type": "code",
   "execution_count": 4,
   "metadata": {},
   "outputs": [
    {
     "name": "stdout",
     "output_type": "stream",
     "text": [
      "(60000, 784) (10000, 784)\n"
     ]
    }
   ],
   "source": [
    "X_train = X_train.reshape(60000, 28 * 28)\n",
    "X_test = X_test.reshape(10000, 28 * 28)\n",
    "\n",
    "print(X_train.shape, X_test.shape)"
   ]
  },
  {
   "cell_type": "code",
   "execution_count": 5,
   "metadata": {},
   "outputs": [
    {
     "name": "stdout",
     "output_type": "stream",
     "text": [
      "(60000, 10) (10000, 10)\n"
     ]
    }
   ],
   "source": [
    "from keras.utils import to_categorical\n",
    "\n",
    "# One hot encoding을 합니다.\n",
    "# np.eye(10)[y_train]과 동일합니다.\n",
    "y_train_hot = to_categorical(y_train)\n",
    "\n",
    "# np.eye(10)[y_test]와 동일합니다.\n",
    "y_test_hot = to_categorical(y_test)\n",
    "\n",
    "print(y_train_hot.shape, y_test_hot.shape)"
   ]
  },
  {
   "cell_type": "markdown",
   "metadata": {},
   "source": [
    "## Build a Model"
   ]
  },
  {
   "cell_type": "markdown",
   "metadata": {},
   "source": [
    "### Single-layer Neural Network"
   ]
  },
  {
   "cell_type": "code",
   "execution_count": 6,
   "metadata": {},
   "outputs": [],
   "source": [
    "from keras.models import Sequential\n",
    "from keras.layers import Dense, Activation\n",
    "from keras.initializers import RandomUniform\n",
    "from keras.optimizers import SGD\n",
    "\n",
    "model = Sequential()\n",
    "model.add(Dense(units=10,\n",
    "                kernel_initializer=RandomUniform(minval=0.0, maxval=0.001),\n",
    "                input_shape=(28 * 28,)))\n",
    "model.add(Activation('sigmoid'))\n",
    "\n",
    "optimizers = SGD(lr=0.00001)\n",
    "model.compile(optimizer=optimizers,\n",
    "              loss='categorical_crossentropy',\n",
    "              metrics=['accuracy'])"
   ]
  },
  {
   "cell_type": "code",
   "execution_count": 7,
   "metadata": {},
   "outputs": [
    {
     "name": "stdout",
     "output_type": "stream",
     "text": [
      "Train on 60000 samples, validate on 10000 samples\n",
      "Epoch 1/20\n",
      "60000/60000 [==============================] - 1s 24us/step - loss: 2.3021 - acc: 0.1512 - val_loss: 2.3004 - val_acc: 0.1467\n",
      "Epoch 2/20\n",
      "60000/60000 [==============================] - 1s 23us/step - loss: 1.6730 - acc: 0.1173 - val_loss: 1.0277 - val_acc: 0.1136\n",
      "Epoch 3/20\n",
      "60000/60000 [==============================] - 1s 23us/step - loss: 1.0223 - acc: 0.1137 - val_loss: 1.0065 - val_acc: 0.1147\n",
      "Epoch 4/20\n",
      "60000/60000 [==============================] - 1s 23us/step - loss: 0.9992 - acc: 0.1165 - val_loss: 0.9851 - val_acc: 0.1163\n",
      "Epoch 5/20\n",
      "60000/60000 [==============================] - 1s 23us/step - loss: 0.9878 - acc: 0.1206 - val_loss: 0.9851 - val_acc: 0.1230\n",
      "Epoch 6/20\n",
      "60000/60000 [==============================] - 1s 23us/step - loss: 0.9808 - acc: 0.1235 - val_loss: 0.9835 - val_acc: 0.1269\n",
      "Epoch 7/20\n",
      "60000/60000 [==============================] - 1s 23us/step - loss: 0.9765 - acc: 0.1275 - val_loss: 0.9806 - val_acc: 0.1277\n",
      "Epoch 8/20\n",
      "60000/60000 [==============================] - 1s 21us/step - loss: 0.9726 - acc: 0.1325 - val_loss: 0.9784 - val_acc: 0.1330\n",
      "Epoch 9/20\n",
      "60000/60000 [==============================] - 1s 21us/step - loss: 0.9681 - acc: 0.1363 - val_loss: 0.9865 - val_acc: 0.1541\n",
      "Epoch 10/20\n",
      "60000/60000 [==============================] - 1s 21us/step - loss: 0.9659 - acc: 0.1395 - val_loss: 0.9722 - val_acc: 0.1426\n",
      "Epoch 11/20\n",
      "60000/60000 [==============================] - 1s 21us/step - loss: 0.9637 - acc: 0.1457 - val_loss: 0.9696 - val_acc: 0.1436\n",
      "Epoch 12/20\n",
      "60000/60000 [==============================] - 1s 21us/step - loss: 0.9624 - acc: 0.1532 - val_loss: 0.9694 - val_acc: 0.1668\n",
      "Epoch 13/20\n",
      "60000/60000 [==============================] - 1s 21us/step - loss: 0.9594 - acc: 0.1626 - val_loss: 0.9753 - val_acc: 0.1630\n",
      "Epoch 14/20\n",
      "60000/60000 [==============================] - 1s 21us/step - loss: 0.9597 - acc: 0.1776 - val_loss: 0.9701 - val_acc: 0.1822\n",
      "Epoch 15/20\n",
      "60000/60000 [==============================] - 1s 21us/step - loss: 0.8811 - acc: 0.3236 - val_loss: 0.3805 - val_acc: 0.8990\n",
      "Epoch 16/20\n",
      "60000/60000 [==============================] - 1s 21us/step - loss: 0.3435 - acc: 0.9041 - val_loss: 0.3272 - val_acc: 0.9143\n",
      "Epoch 17/20\n",
      "60000/60000 [==============================] - 1s 21us/step - loss: 0.3231 - acc: 0.9102 - val_loss: 0.3337 - val_acc: 0.9111\n",
      "Epoch 18/20\n",
      "60000/60000 [==============================] - 1s 21us/step - loss: 0.3124 - acc: 0.9127 - val_loss: 0.3158 - val_acc: 0.9194\n",
      "Epoch 19/20\n",
      "60000/60000 [==============================] - 1s 21us/step - loss: 0.3076 - acc: 0.9143 - val_loss: 0.3120 - val_acc: 0.9169\n",
      "Epoch 20/20\n",
      "60000/60000 [==============================] - 1s 21us/step - loss: 0.3027 - acc: 0.9142 - val_loss: 0.3086 - val_acc: 0.9180\n"
     ]
    },
    {
     "data": {
      "text/plain": [
       "<keras.callbacks.History at 0x10bdeeac8>"
      ]
     },
     "execution_count": 7,
     "metadata": {},
     "output_type": "execute_result"
    }
   ],
   "source": [
    "model.fit(X_train,\n",
    "          y_train_hot,\n",
    "          epochs=20,\n",
    "          validation_data=(X_test, y_test_hot))"
   ]
  },
  {
   "cell_type": "code",
   "execution_count": 8,
   "metadata": {},
   "outputs": [
    {
     "name": "stdout",
     "output_type": "stream",
     "text": [
      "Accuracy = 0.918000\n"
     ]
    },
    {
     "data": {
      "text/html": [
       "<div>\n",
       "<style scoped>\n",
       "    .dataframe tbody tr th:only-of-type {\n",
       "        vertical-align: middle;\n",
       "    }\n",
       "\n",
       "    .dataframe tbody tr th {\n",
       "        vertical-align: top;\n",
       "    }\n",
       "\n",
       "    .dataframe thead th {\n",
       "        text-align: right;\n",
       "    }\n",
       "</style>\n",
       "<table border=\"1\" class=\"dataframe\">\n",
       "  <thead>\n",
       "    <tr style=\"text-align: right;\">\n",
       "      <th></th>\n",
       "      <th>actual</th>\n",
       "      <th>predict</th>\n",
       "    </tr>\n",
       "  </thead>\n",
       "  <tbody>\n",
       "    <tr>\n",
       "      <th>0</th>\n",
       "      <td>7</td>\n",
       "      <td>7</td>\n",
       "    </tr>\n",
       "    <tr>\n",
       "      <th>1</th>\n",
       "      <td>2</td>\n",
       "      <td>2</td>\n",
       "    </tr>\n",
       "    <tr>\n",
       "      <th>2</th>\n",
       "      <td>1</td>\n",
       "      <td>1</td>\n",
       "    </tr>\n",
       "    <tr>\n",
       "      <th>3</th>\n",
       "      <td>0</td>\n",
       "      <td>0</td>\n",
       "    </tr>\n",
       "    <tr>\n",
       "      <th>4</th>\n",
       "      <td>4</td>\n",
       "      <td>4</td>\n",
       "    </tr>\n",
       "    <tr>\n",
       "      <th>5</th>\n",
       "      <td>1</td>\n",
       "      <td>1</td>\n",
       "    </tr>\n",
       "    <tr>\n",
       "      <th>6</th>\n",
       "      <td>4</td>\n",
       "      <td>4</td>\n",
       "    </tr>\n",
       "    <tr>\n",
       "      <th>7</th>\n",
       "      <td>9</td>\n",
       "      <td>9</td>\n",
       "    </tr>\n",
       "    <tr>\n",
       "      <th>8</th>\n",
       "      <td>5</td>\n",
       "      <td>6</td>\n",
       "    </tr>\n",
       "    <tr>\n",
       "      <th>9</th>\n",
       "      <td>9</td>\n",
       "      <td>9</td>\n",
       "    </tr>\n",
       "  </tbody>\n",
       "</table>\n",
       "</div>"
      ],
      "text/plain": [
       "   actual  predict\n",
       "0       7        7\n",
       "1       2        2\n",
       "2       1        1\n",
       "3       0        0\n",
       "4       4        4\n",
       "5       1        1\n",
       "6       4        4\n",
       "7       9        9\n",
       "8       5        6\n",
       "9       9        9"
      ]
     },
     "execution_count": 8,
     "metadata": {},
     "output_type": "execute_result"
    }
   ],
   "source": [
    "import pandas as pd\n",
    "\n",
    "predictions = model.predict(X_test)\n",
    "predictions = np.argmax(predictions, axis=1)\n",
    "\n",
    "result = pd.DataFrame({'actual': y_test, 'predict': predictions})\n",
    "\n",
    "accuracy = (result['actual'] == result['predict']).mean()\n",
    "print(\"Accuracy = {0:.6f}\".format(accuracy))\n",
    "      \n",
    "result.head(10)"
   ]
  },
  {
   "cell_type": "markdown",
   "metadata": {},
   "source": [
    "### Multi-layer Neural Network"
   ]
  },
  {
   "cell_type": "code",
   "execution_count": 9,
   "metadata": {},
   "outputs": [],
   "source": [
    "from keras.models import Sequential\n",
    "from keras.layers import Dense, Activation\n",
    "from keras.initializers import RandomUniform\n",
    "from keras.optimizers import SGD\n",
    "\n",
    "model = Sequential()\n",
    "model.add(Dense(units=1000,\n",
    "                kernel_initializer=RandomUniform(minval=-0.058, maxval=0.058),\n",
    "                input_shape=(28 * 28,)))\n",
    "model.add(Activation('sigmoid'))\n",
    "model.add(Dense(units=10,\n",
    "                kernel_initializer=RandomUniform(minval=-0.077, maxval=0.077)))\n",
    "\n",
    "model.add(Activation('sigmoid'))\n",
    "\n",
    "optimizers = SGD(lr=0.0001)\n",
    "model.compile(optimizer=optimizers,\n",
    "              loss='categorical_crossentropy',\n",
    "              metrics=['accuracy'])"
   ]
  },
  {
   "cell_type": "code",
   "execution_count": null,
   "metadata": {},
   "outputs": [
    {
     "name": "stdout",
     "output_type": "stream",
     "text": [
      "Train on 60000 samples, validate on 10000 samples\n",
      "Epoch 1/20\n",
      "60000/60000 [==============================] - 9s 147us/step - loss: 2.2684 - acc: 0.1318 - val_loss: 2.1555 - val_acc: 0.2024\n",
      "Epoch 2/20\n",
      "60000/60000 [==============================] - 9s 150us/step - loss: 2.0597 - acc: 0.3060 - val_loss: 1.9186 - val_acc: 0.4667\n",
      "Epoch 3/20\n",
      "60000/60000 [==============================] - 9s 146us/step - loss: 1.7453 - acc: 0.5675 - val_loss: 1.5253 - val_acc: 0.6683\n",
      "Epoch 4/20\n",
      "60000/60000 [==============================] - 9s 148us/step - loss: 1.3595 - acc: 0.7059 - val_loss: 1.1769 - val_acc: 0.7524\n",
      "Epoch 5/20\n",
      "60000/60000 [==============================] - 9s 150us/step - loss: 1.0792 - acc: 0.7723 - val_loss: 0.9575 - val_acc: 0.8033\n",
      "Epoch 6/20\n",
      "60000/60000 [==============================] - 9s 149us/step - loss: 0.9039 - acc: 0.8089 - val_loss: 0.8213 - val_acc: 0.8309\n",
      "Epoch 7/20\n",
      "60000/60000 [==============================] - 10s 164us/step - loss: 0.7887 - acc: 0.8311 - val_loss: 0.7292 - val_acc: 0.8453\n",
      "Epoch 8/20\n",
      "60000/60000 [==============================] - 10s 158us/step - loss: 0.7082 - acc: 0.8466 - val_loss: 0.6630 - val_acc: 0.8568\n",
      "Epoch 9/20\n",
      "60000/60000 [==============================] - 9s 154us/step - loss: 0.6486 - acc: 0.8581 - val_loss: 0.6140 - val_acc: 0.8649\n",
      "Epoch 10/20\n",
      "60000/60000 [==============================] - 9s 157us/step - loss: 0.6026 - acc: 0.8669 - val_loss: 0.5759 - val_acc: 0.8727\n",
      "Epoch 11/20\n",
      "60000/60000 [==============================] - 10s 169us/step - loss: 0.5657 - acc: 0.8737 - val_loss: 0.5448 - val_acc: 0.8786\n",
      "Epoch 12/20\n",
      "60000/60000 [==============================] - 8s 136us/step - loss: 0.5354 - acc: 0.8793 - val_loss: 0.5195 - val_acc: 0.8830\n",
      "Epoch 13/20\n",
      "60000/60000 [==============================] - 8s 141us/step - loss: 0.5100 - acc: 0.8838 - val_loss: 0.4981 - val_acc: 0.8859\n",
      "Epoch 14/20\n",
      "60000/60000 [==============================] - 9s 149us/step - loss: 0.4881 - acc: 0.8884 - val_loss: 0.4796 - val_acc: 0.8888\n",
      "Epoch 15/20\n",
      "60000/60000 [==============================] - 9s 151us/step - loss: 0.4691 - acc: 0.8916 - val_loss: 0.4636 - val_acc: 0.8904\n",
      "Epoch 16/20\n",
      "60000/60000 [==============================] - 9s 153us/step - loss: 0.4524 - acc: 0.8950 - val_loss: 0.4497 - val_acc: 0.8929\n",
      "Epoch 17/20\n",
      "60000/60000 [==============================] - 9s 153us/step - loss: 0.4377 - acc: 0.8974 - val_loss: 0.4371 - val_acc: 0.8945\n",
      "Epoch 18/20\n",
      "40448/60000 [===================>..........] - ETA: 2s - loss: 0.4286 - acc: 0.8990"
     ]
    }
   ],
   "source": [
    "model.fit(X_train,\n",
    "          y_train_hot,\n",
    "          epochs=20,\n",
    "          validation_data=(X_test, y_test_hot))"
   ]
  },
  {
   "cell_type": "code",
   "execution_count": null,
   "metadata": {},
   "outputs": [],
   "source": [
    "import pandas as pd\n",
    "\n",
    "predictions = model.predict(X_test)\n",
    "predictions = np.argmax(predictions, axis=1)\n",
    "\n",
    "result = pd.DataFrame({'actual': y_test, 'predict': predictions})\n",
    "\n",
    "accuracy = (result['actual'] == result['predict']).mean()\n",
    "print(\"Accuracy = {0:.6f}\".format(accuracy))\n",
    "      \n",
    "result.head(10)"
   ]
  },
  {
   "cell_type": "code",
   "execution_count": null,
   "metadata": {},
   "outputs": [],
   "source": []
  }
 ],
 "metadata": {
  "kernelspec": {
   "display_name": "Python 3",
   "language": "python",
   "name": "python3"
  },
  "language_info": {
   "codemirror_mode": {
    "name": "ipython",
    "version": 3
   },
   "file_extension": ".py",
   "mimetype": "text/x-python",
   "name": "python",
   "nbconvert_exporter": "python",
   "pygments_lexer": "ipython3",
   "version": "3.6.6"
  }
 },
 "nbformat": 4,
 "nbformat_minor": 2
}
